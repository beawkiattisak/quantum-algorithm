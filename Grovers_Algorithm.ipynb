{
 "cells": [
  {
   "cell_type": "code",
   "execution_count": 3,
   "metadata": {},
   "outputs": [],
   "source": [
    "my_list = [1,3,5,2,4,9,5,8,0,7,6]"
   ]
  },
  {
   "cell_type": "code",
   "execution_count": 4,
   "metadata": {},
   "outputs": [],
   "source": [
    "def the_oracle(my_input):\n",
    "    winner=7\n",
    "    if my_input is winner:\n",
    "        response = True\n",
    "    else:\n",
    "        response = False\n",
    "    return response"
   ]
  },
  {
   "cell_type": "code",
   "execution_count": 5,
   "metadata": {},
   "outputs": [
    {
     "name": "stdout",
     "output_type": "stream",
     "text": [
      "Winner found at index 9\n",
      "10 calls to the Oracle used\n"
     ]
    }
   ],
   "source": [
    "for index, trial_number in enumerate(my_list):\n",
    "    if the_oracle(trial_number) is True:\n",
    "        print('Winner found at index %i' %index)\n",
    "        print('%i calls to the Oracle used' %(index+1))\n",
    "        break"
   ]
  },
  {
   "cell_type": "code",
   "execution_count": 6,
   "metadata": {},
   "outputs": [],
   "source": [
    "from qiskit import *\n",
    "import matplotlib.pyplot as plt\n",
    "import numpy as np"
   ]
  },
  {
   "cell_type": "code",
   "execution_count": 7,
   "metadata": {},
   "outputs": [
    {
     "data": {
      "text/html": [
       "<pre style=\"word-wrap: normal;white-space: pre;background: #fff0;line-height: 1.1;font-family: &quot;Courier New&quot;,Courier,monospace\">        \n",
       "q_0: ─■─\n",
       "      │ \n",
       "q_1: ─■─\n",
       "        </pre>"
      ],
      "text/plain": [
       "        \n",
       "q_0: ─■─\n",
       "      │ \n",
       "q_1: ─■─\n",
       "        "
      ]
     },
     "execution_count": 7,
     "metadata": {},
     "output_type": "execute_result"
    }
   ],
   "source": [
    "oracle = QuantumCircuit(2, name='oracle')\n",
    "oracle.cz(0, 1)\n",
    "oracle.to_gate()\n",
    "oracle.draw()"
   ]
  },
  {
   "cell_type": "code",
   "execution_count": 8,
   "metadata": {},
   "outputs": [
    {
     "data": {
      "text/html": [
       "<pre style=\"word-wrap: normal;white-space: pre;background: #fff0;line-height: 1.1;font-family: &quot;Courier New&quot;,Courier,monospace\">     ┌───┐┌─────────┐\n",
       "q_0: ┤ H ├┤0        ├\n",
       "     ├───┤│  oracle │\n",
       "q_1: ┤ H ├┤1        ├\n",
       "     └───┘└─────────┘\n",
       "c: 2/════════════════\n",
       "                     </pre>"
      ],
      "text/plain": [
       "     ┌───┐┌─────────┐\n",
       "q_0: ┤ H ├┤0        ├\n",
       "     ├───┤│  oracle │\n",
       "q_1: ┤ H ├┤1        ├\n",
       "     └───┘└─────────┘\n",
       "c: 2/════════════════\n",
       "                     "
      ]
     },
     "execution_count": 8,
     "metadata": {},
     "output_type": "execute_result"
    }
   ],
   "source": [
    "backend = Aer.get_backend('statevector_simulator')\n",
    "grover_circ = QuantumCircuit(2, 2)\n",
    "grover_circ.h([0, 1])\n",
    "grover_circ.append(oracle, [0, 1])\n",
    "grover_circ.draw()"
   ]
  },
  {
   "cell_type": "code",
   "execution_count": 9,
   "metadata": {},
   "outputs": [],
   "source": [
    "job = execute(grover_circ, backend)\n",
    "result = job.result()"
   ]
  },
  {
   "cell_type": "code",
   "execution_count": 10,
   "metadata": {},
   "outputs": [
    {
     "data": {
      "text/plain": [
       "array([ 0.5+0.j,  0.5+0.j,  0.5+0.j, -0.5+0.j])"
      ]
     },
     "execution_count": 10,
     "metadata": {},
     "output_type": "execute_result"
    }
   ],
   "source": [
    "sv =  result.get_statevector()\n",
    "np.around(sv, 2)"
   ]
  },
  {
   "cell_type": "code",
   "execution_count": 11,
   "metadata": {},
   "outputs": [
    {
     "data": {
      "text/plain": [
       "Instruction(name='reflection', num_qubits=2, num_clbits=0, params=[])"
      ]
     },
     "execution_count": 11,
     "metadata": {},
     "output_type": "execute_result"
    }
   ],
   "source": [
    "reflection = QuantumCircuit(2, name='reflection')\n",
    "reflection.h([0, 1])\n",
    "reflection.z([0, 1])\n",
    "reflection.cz(0, 1)\n",
    "reflection.h([0, 1])\n",
    "reflection.to_gate()"
   ]
  },
  {
   "cell_type": "code",
   "execution_count": 12,
   "metadata": {},
   "outputs": [
    {
     "data": {
      "text/html": [
       "<pre style=\"word-wrap: normal;white-space: pre;background: #fff0;line-height: 1.1;font-family: &quot;Courier New&quot;,Courier,monospace\">     ┌───┐┌───┐   ┌───┐\n",
       "q_0: ┤ H ├┤ Z ├─■─┤ H ├\n",
       "     ├───┤├───┤ │ ├───┤\n",
       "q_1: ┤ H ├┤ Z ├─■─┤ H ├\n",
       "     └───┘└───┘   └───┘</pre>"
      ],
      "text/plain": [
       "     ┌───┐┌───┐   ┌───┐\n",
       "q_0: ┤ H ├┤ Z ├─■─┤ H ├\n",
       "     ├───┤├───┤ │ ├───┤\n",
       "q_1: ┤ H ├┤ Z ├─■─┤ H ├\n",
       "     └───┘└───┘   └───┘"
      ]
     },
     "execution_count": 12,
     "metadata": {},
     "output_type": "execute_result"
    }
   ],
   "source": [
    "reflection.draw()"
   ]
  },
  {
   "cell_type": "code",
   "execution_count": 13,
   "metadata": {},
   "outputs": [
    {
     "data": {
      "text/plain": [
       "<qiskit.circuit.instructionset.InstructionSet at 0x113906e90>"
      ]
     },
     "execution_count": 13,
     "metadata": {},
     "output_type": "execute_result"
    }
   ],
   "source": [
    "backend = Aer.get_backend('qasm_simulator')\n",
    "grover_circ = QuantumCircuit(2, 2)\n",
    "grover_circ.h([0, 1])\n",
    "grover_circ.append(oracle, [0, 1])\n",
    "grover_circ.append(reflection, [0, 1])\n",
    "grover_circ.measure([0, 1], [0, 1])"
   ]
  },
  {
   "cell_type": "code",
   "execution_count": 14,
   "metadata": {},
   "outputs": [
    {
     "data": {
      "text/html": [
       "<pre style=\"word-wrap: normal;white-space: pre;background: #fff0;line-height: 1.1;font-family: &quot;Courier New&quot;,Courier,monospace\">     ┌───┐┌─────────┐┌─────────────┐┌─┐   \n",
       "q_0: ┤ H ├┤0        ├┤0            ├┤M├───\n",
       "     ├───┤│  oracle ││  reflection │└╥┘┌─┐\n",
       "q_1: ┤ H ├┤1        ├┤1            ├─╫─┤M├\n",
       "     └───┘└─────────┘└─────────────┘ ║ └╥┘\n",
       "c: 2/════════════════════════════════╩══╩═\n",
       "                                     0  1 </pre>"
      ],
      "text/plain": [
       "     ┌───┐┌─────────┐┌─────────────┐┌─┐   \n",
       "q_0: ┤ H ├┤0        ├┤0            ├┤M├───\n",
       "     ├───┤│  oracle ││  reflection │└╥┘┌─┐\n",
       "q_1: ┤ H ├┤1        ├┤1            ├─╫─┤M├\n",
       "     └───┘└─────────┘└─────────────┘ ║ └╥┘\n",
       "c: 2/════════════════════════════════╩══╩═\n",
       "                                     0  1 "
      ]
     },
     "execution_count": 14,
     "metadata": {},
     "output_type": "execute_result"
    }
   ],
   "source": [
    "grover_circ.draw()"
   ]
  },
  {
   "cell_type": "code",
   "execution_count": 15,
   "metadata": {},
   "outputs": [
    {
     "data": {
      "text/plain": [
       "{'11': 1}"
      ]
     },
     "execution_count": 15,
     "metadata": {},
     "output_type": "execute_result"
    }
   ],
   "source": [
    "job = execute(grover_circ, backend, shots=1)\n",
    "result = job.result()\n",
    "result.get_counts()"
   ]
  },
  {
   "cell_type": "code",
   "execution_count": 16,
   "metadata": {},
   "outputs": [
    {
     "data": {
      "text/html": [
       "<h3>Version Information</h3><table><tr><th>Software</th><th>Version</th></tr><tr><td><code>qiskit</code></td><td>0.45.0</td></tr><tr><td><code>qiskit_aer</code></td><td>0.13.0</td></tr><tr><th colspan='2'>System information</th></tr><tr><td>Python version</td><td>3.11.5</td></tr><tr><td>Python compiler</td><td>Clang 14.0.6 </td></tr><tr><td>Python build</td><td>main, Sep 11 2023 08:19:27</td></tr><tr><td>OS</td><td>Darwin</td></tr><tr><td>CPUs</td><td>4</td></tr><tr><td>Memory (Gb)</td><td>8.0</td></tr><tr><td colspan='2'>Sat Nov 11 20:33:19 2023 +07</td></tr></table>"
      ],
      "text/plain": [
       "<IPython.core.display.HTML object>"
      ]
     },
     "metadata": {},
     "output_type": "display_data"
    },
    {
     "data": {
      "text/html": [
       "<div style='width: 100%; background-color:#d5d9e0;padding-left: 10px; padding-bottom: 10px; padding-right: 10px; padding-top: 5px'><h3>This code is a part of Qiskit</h3><p>&copy; Copyright IBM 2017, 2023.</p><p>This code is licensed under the Apache License, Version 2.0. You may<br>obtain a copy of this license in the LICENSE.txt file in the root directory<br> of this source tree or at http://www.apache.org/licenses/LICENSE-2.0.<p>Any modifications or derivative works of this code must retain this<br>copyright notice, and modified files need to carry a notice indicating<br>that they have been altered from the originals.</p></div>"
      ],
      "text/plain": [
       "<IPython.core.display.HTML object>"
      ]
     },
     "metadata": {},
     "output_type": "display_data"
    }
   ],
   "source": [
    "import qiskit.tools.jupyter\n",
    "%qiskit_version_table\n",
    "%qiskit_copyright"
   ]
  },
  {
   "cell_type": "code",
   "execution_count": null,
   "metadata": {},
   "outputs": [],
   "source": []
  }
 ],
 "metadata": {
  "kernelspec": {
   "display_name": "Qiskit (stable)",
   "language": "python",
   "name": "qiskit-stable"
  },
  "language_info": {
   "codemirror_mode": {
    "name": "ipython",
    "version": 3
   },
   "file_extension": ".py",
   "mimetype": "text/x-python",
   "name": "python",
   "nbconvert_exporter": "python",
   "pygments_lexer": "ipython3",
   "version": "3.11.5"
  },
  "orig_nbformat": 4
 },
 "nbformat": 4,
 "nbformat_minor": 2
}
